{
  "nbformat": 4,
  "nbformat_minor": 0,
  "metadata": {
    "colab": {
      "provenance": []
    },
    "kernelspec": {
      "name": "python3",
      "display_name": "Python 3"
    },
    "language_info": {
      "name": "python"
    }
  },
  "cells": [
    {
      "cell_type": "markdown",
      "source": [
        "## **ASSIGNMENT OF FUNTIONS**\n",
        "---"
      ],
      "metadata": {
        "id": "mTLF815BweYM"
      }
    },
    {
      "cell_type": "markdown",
      "source": [
        "## **Theory**\n",
        "---"
      ],
      "metadata": {
        "id": "2NetFQdnw2pE"
      }
    },
    {
      "cell_type": "markdown",
      "source": [
        "Q1. What is the difference between a function and a method in python.\n",
        "=\n",
        "* funtion are the block of code that define a especific task. it will define using def .\n",
        " def fun()\n",
        "* method are also funtion but it will associated with the objects or class .\n"
      ],
      "metadata": {
        "id": "d_6vWJbsxNez"
      }
    },
    {
      "cell_type": "code",
      "source": [
        "# Function\n",
        "def greet(name):\n",
        "    return \"Hello \" + name\n",
        "print(greet(\"Sir\"))\n",
        "\n",
        "# Method\n",
        "text = \"python\"\n",
        "print(text.upper())      # upper() is a method of string object that  may upper case the whole string\n"
      ],
      "metadata": {
        "id": "nl20gRbR8jIr"
      },
      "execution_count": null,
      "outputs": []
    },
    {
      "cell_type": "markdown",
      "source": [
        "Q 2. Explain the concept of function arguments and parameters in Python.\n",
        "=\n",
        "* Parameter is the place holder in funcion\n",
        "* Argument are the actual value that were passed when the function is run\n",
        "\n",
        "arg are more type :-  \n",
        "\n",
        "Position argument,\n",
        "\n",
        "keyword argument,\n",
        "\n",
        "default argument,\n",
        "\n",
        "variable argument\n"
      ],
      "metadata": {
        "id": "RsVNFJhW9mEv"
      }
    },
    {
      "cell_type": "code",
      "source": [
        "def funtion(name, age): # is the positional argument\n",
        "  return f(\"{name} is {age} year old \")"
      ],
      "metadata": {
        "id": "P3LDlIVcBIpf"
      },
      "execution_count": null,
      "outputs": []
    },
    {
      "cell_type": "markdown",
      "source": [
        "Q 3. What are the differnce ways to define and call a function in python ?\n",
        "---\n",
        "*  function in python are can be define as a more several ways.\n",
        "\n",
        "\n",
        "___\n",
        "* simple define function\n",
        "\n",
        "e.g.\n",
        "\n",
        " def sqr(x):\n",
        "\n",
        "         return x*x\n",
        "\n",
        "     print(sqr(4))\n",
        "___\n",
        "* Lambda function\n",
        "\n",
        "e.g.\n",
        "fun = lambda x : x*x\n",
        "     \n",
        "     print(fun(4))\n",
        "\n",
        "___\n",
        "* function with default arguments\n",
        "\n",
        "e.g.\n",
        "\n",
        "def greet(name=\"Guest\"):\n",
        "   \n",
        "         return f\"Hello {name}\"\n",
        "\n",
        "print(greet())           # Hello Guest\n",
        "\n",
        "print(greet(\"Aashish\"))  # Hello Aashish\n",
        "___\n",
        "*  function with keyword arguments\n",
        "\n",
        "e.g.\n",
        "\n",
        "def student(name,age):\n",
        "\n",
        "return(f\"{name} is {age} \")\n",
        "\n",
        "print(student(name = \"aashish\",age = 21))\n",
        "\n",
        "___\n",
        "* def addit(*arg):\n",
        "    \n",
        "    return sum(arg)\n",
        "    \n",
        "    print(addit(1,2,3,4))"
      ],
      "metadata": {
        "id": "XdAKYwLS4ETv"
      }
    },
    {
      "cell_type": "markdown",
      "source": [
        "## Q 4: What is the purpose of the return statement in a Python function?"
      ],
      "metadata": {
        "id": "6LPJuKrKD8rP"
      }
    },
    {
      "cell_type": "code",
      "source": [
        "# return statement in python function that were used to send the values from the function\n",
        "# without function it gives none by default\n",
        "\n",
        "# e.g. def multiply(a, b):\n",
        "#        return a * b   # sends result back\n",
        "\n",
        "#      result = multiply(5, 6)\n",
        "#      print(result)   # 30\n"
      ],
      "metadata": {
        "id": "Ge4ojChU_QC1"
      },
      "execution_count": null,
      "outputs": []
    },
    {
      "cell_type": "markdown",
      "source": [
        "Q 5. What are iterators in Python and how do they differ from iterables?\n",
        "---"
      ],
      "metadata": {
        "id": "NdIu-NBHEDlH"
      }
    },
    {
      "cell_type": "markdown",
      "source": [
        "* An iterable is any object that can return its elements one by one (e.g., list, tuple, string). It works with a for loop.\n",
        "*  An iterator is an object created from an iterable using iter(). It remembers its current state and produces the next element using next().\n",
        "\n",
        "# Iterable\n",
        "nums = [1, 2, 3]\n",
        "\n",
        "for n in nums:\n",
        "\n",
        "    print(n)\n",
        "\n",
        "# Iterator\n",
        "\n",
        "nums_iter = iter(nums)\n",
        "\n",
        "print(next(nums_iter))  # 1\n",
        "\n",
        "print(next(nums_iter))  # 2\n",
        "\n",
        "print(next(nums_iter))  # 3\n"
      ],
      "metadata": {
        "id": "3fh-aUKiFpYG"
      }
    },
    {
      "cell_type": "markdown",
      "source": [
        "# Q 6. Explain the concept of generators in Python and how they are defined."
      ],
      "metadata": {
        "id": "GmNWsHC7GhJk"
      }
    },
    {
      "cell_type": "code",
      "source": [
        "# generators are specific type of function that gibe the iterator\n",
        "#define like a normal function but uses yield instant of return\n",
        "\n",
        "def count(n):\n",
        "    while n > 0:\n",
        "        yield n   # pauses here and returns value\n",
        "        n -= 1\n",
        "\n"
      ],
      "metadata": {
        "id": "v-rX0zTmHJhr"
      },
      "execution_count": null,
      "outputs": []
    },
    {
      "cell_type": "code",
      "source": [
        "print(count(6))"
      ],
      "metadata": {
        "colab": {
          "base_uri": "https://localhost:8080/"
        },
        "id": "WXPqjj7IURFA",
        "outputId": "99c99788-934e-4362-c6ab-ff9782fc138a"
      },
      "execution_count": null,
      "outputs": [
        {
          "output_type": "stream",
          "name": "stdout",
          "text": [
            "<generator object count at 0x7f8d2f9ed600>\n"
          ]
        }
      ]
    },
    {
      "cell_type": "code",
      "source": [
        "def countdown(n):\n",
        "    while n > 0:\n",
        "        yield n   # pauses here and returns value\n",
        "        n -= 1\n",
        "\n",
        "for val in countdown(3):\n",
        "    print(val)\n"
      ],
      "metadata": {
        "colab": {
          "base_uri": "https://localhost:8080/"
        },
        "id": "AIZiqxCGUTFa",
        "outputId": "af17564d-13e5-4dae-e41e-3ec457674f1e"
      },
      "execution_count": null,
      "outputs": [
        {
          "output_type": "stream",
          "name": "stdout",
          "text": [
            "3\n",
            "2\n",
            "1\n"
          ]
        }
      ]
    },
    {
      "cell_type": "markdown",
      "source": [
        "# Q 7.  What are the advantages of using generators over regular functions?"
      ],
      "metadata": {
        "id": "DhBWXnvpUjU3"
      }
    },
    {
      "cell_type": "markdown",
      "source": [
        "*  memory efficiency - this were not store more memory it wil only store a one memory at a time\n",
        "*  values are generated only when we requires\n",
        "* no more difficulties in creating and creating a large list\n",
        "* this will more use full in making and generating fibonnaci series"
      ],
      "metadata": {
        "id": "b8rVCaNRVUKT"
      }
    },
    {
      "cell_type": "code",
      "source": [
        "def squares():\n",
        "    n = 1\n",
        "    while True:\n",
        "        yield n * n\n",
        "        n += 1\n",
        "\n",
        "gen = squares()\n",
        "print(next(gen))  # 1\n",
        "print(next(gen))  # 4\n",
        "print(next(gen))  # 9\n",
        "\n",
        "\n",
        "n = int(input(\"enter your fib number :\"))\n",
        "def fibonacci(n):\n",
        "  a = 0\n",
        "  b = 1\n",
        "  for i in range(n):\n",
        "    a,b = b,a+b\n",
        "    print(a)\n",
        "\n",
        "fibonacci(n)"
      ],
      "metadata": {
        "id": "00vSk6r6WatV",
        "colab": {
          "base_uri": "https://localhost:8080/"
        },
        "outputId": "4d58e0b0-bd09-47b8-85c2-2b97fc76ec4c"
      },
      "execution_count": null,
      "outputs": [
        {
          "output_type": "stream",
          "name": "stdout",
          "text": [
            "1\n",
            "4\n",
            "9\n",
            "enter your fib number :11\n",
            "1\n",
            "1\n",
            "2\n",
            "3\n",
            "5\n",
            "8\n",
            "13\n",
            "21\n",
            "34\n",
            "55\n",
            "89\n"
          ]
        }
      ]
    },
    {
      "cell_type": "markdown",
      "source": [
        "## Q 8. What is a lambda function in Python and when is it typically used?\n",
        "___\n",
        "* lambda function is a small nameless function define using (lambda)\n",
        "* it can be any number of argument but it have only one expresion\n",
        "\n",
        "\n",
        "It will typically used when we needed short simple function for temproraily.\n",
        "\n",
        "* used with map(),reduce(),sorted(),function(),max(),filter()\n",
        "\n",
        "syntax => lambda argument : expresion\n"
      ],
      "metadata": {
        "id": "jgopb42asIEJ"
      }
    },
    {
      "cell_type": "code",
      "source": [
        "#  some examples of lambda function\n",
        "add = lambda x, y: x + y\n",
        "print(add(3, 4))  # Output: 7\n",
        "\n",
        "# with map()\n",
        "numbers = [1, 2, 3, 4, 5]\n",
        "squared = list(map(lambda x: x**2, numbers))\n",
        "print(squared)  # Output: [1, 4, 9, 16, 25]"
      ],
      "metadata": {
        "colab": {
          "base_uri": "https://localhost:8080/"
        },
        "id": "baYcU1ra5A9E",
        "outputId": "414c2c59-f5f9-4633-c4ef-82a6f77a37c3"
      },
      "execution_count": null,
      "outputs": [
        {
          "output_type": "stream",
          "name": "stdout",
          "text": [
            "7\n",
            "[1, 4, 9, 16, 25]\n"
          ]
        }
      ]
    },
    {
      "cell_type": "markdown",
      "source": [
        "## Q 9. Explain the purpose and usage of the map() function in Python.\n",
        "___\n",
        "\n",
        "map() function applies a given function to each elements in an iterable (like list , tuple ) and it will return the itrator a map object\n",
        "\n",
        "SYNTAX = map(function,iterable)\n",
        "\n",
        "\n",
        "usage of map()\n",
        "* map were used when we want to transform all elements to a sequence with the ooperation function on the map\n",
        "\n",
        "EXAMPLE\n",
        "---"
      ],
      "metadata": {
        "id": "l1xTVZxDNK9F"
      }
    },
    {
      "cell_type": "code",
      "source": [
        "square = map(lambda x : x*x,[1,2,3,4,5])\n",
        "print(list(square))\n",
        "\n",
        "# here the lambda .. was the function and the list was iterables\n",
        "# in map the function were fo seperately with all iterator and gives the square of all outputs"
      ],
      "metadata": {
        "colab": {
          "base_uri": "https://localhost:8080/"
        },
        "id": "fnceTEo4PJyT",
        "outputId": "7377ba71-8e02-4b6f-8717-a15c0de98fd8"
      },
      "execution_count": null,
      "outputs": [
        {
          "output_type": "stream",
          "name": "stdout",
          "text": [
            "[1, 4, 9, 16, 25]\n"
          ]
        }
      ]
    },
    {
      "cell_type": "markdown",
      "source": [
        "## Q 10. What is the difference between map(), reduce(), and filter() functions in Python?\n",
        "\n",
        "The map(),reduce(),and filter() are were using for collecting data but they perform differently\n",
        "*  a map() is applied for given a fucntion to every elements  and return new iterator with the result .\n",
        "\n",
        "Example :-"
      ],
      "metadata": {
        "id": "R7Mq9qjyQGod"
      }
    },
    {
      "cell_type": "code",
      "source": [
        "num = [1, 2, 3]\n",
        "print(list(map(lambda x: x*2, num)))   # [2, 4, 6]"
      ],
      "metadata": {
        "colab": {
          "base_uri": "https://localhost:8080/"
        },
        "id": "ETDZkAY8cnBR",
        "outputId": "4cfeb24b-074a-498f-9aeb-ec942937ab2c"
      },
      "execution_count": null,
      "outputs": [
        {
          "output_type": "stream",
          "name": "stdout",
          "text": [
            "[2, 4, 6]\n"
          ]
        }
      ]
    },
    {
      "cell_type": "markdown",
      "source": [
        "* a filter() is used for the selection the elements from the iterable that satisfy the condition .\n",
        "\n",
        "Example :-"
      ],
      "metadata": {
        "id": "i4dxZs2lczwQ"
      }
    },
    {
      "cell_type": "code",
      "source": [
        "# filter\n",
        "num = filter(lambda z : z % 2 == 0 ,[1,2,3,4,5,6])\n",
        "print(list(num))"
      ],
      "metadata": {
        "colab": {
          "base_uri": "https://localhost:8080/"
        },
        "id": "Ex90Al23dXRO",
        "outputId": "fc2aba49-6d79-40e9-fa83-c8a6cc82e015"
      },
      "execution_count": null,
      "outputs": [
        {
          "output_type": "stream",
          "name": "stdout",
          "text": [
            "[2, 4, 6]\n"
          ]
        }
      ]
    },
    {
      "cell_type": "markdown",
      "source": [
        "* reduce()  is used for the repeadly applied funtion on elements for shorting the compelete output Sequence to single element.\n",
        "* it were get from the functools Library\n",
        "* the answer are always in int\n",
        "\n",
        "Example :-"
      ],
      "metadata": {
        "id": "yyDvCahEdjz-"
      }
    },
    {
      "cell_type": "code",
      "source": [
        "from functools import reduce\n",
        "\n",
        "n = list(input(\"enter your numbers :\").split())\n",
        "n = list(map(int,n))\n",
        "\n",
        "numbers_for_reduce = n\n",
        "numbers = reduce(lambda x, y: x + y, numbers_for_reduce)\n",
        "\n",
        "print(f\"numbers for reduce are as : {numbers_for_reduce}\")\n",
        "print(f\"sum of numbers are : {numbers}\")\n",
        "\n"
      ],
      "metadata": {
        "colab": {
          "base_uri": "https://localhost:8080/"
        },
        "id": "N_xDCPOdfeX2",
        "outputId": "776796b2-9ce3-4ac1-dd57-f98a54e255c3"
      },
      "execution_count": null,
      "outputs": [
        {
          "output_type": "stream",
          "name": "stdout",
          "text": [
            "enter your numbers :454 4542 54121 51 5444 \n",
            "numbers for reduce are as : [454, 4542, 54121, 51, 5444]\n",
            "sum of numbers are : 64612\n"
          ]
        }
      ]
    },
    {
      "cell_type": "markdown",
      "source": [
        "## Q 11 Internal mechanism for sum operation using reduce() on the list [47, 11, 42, 13]."
      ],
      "metadata": {
        "id": "RW-b9NEcjCuE"
      }
    },
    {
      "cell_type": "markdown",
      "source": [
        "When performing a sum operation on the list [47, 11, 42, 13], the internal working happens step-by-step as follows:\n",
        "\n",
        "* First two numbers are added: 47 + 11 = 58\n",
        "\n",
        "*  Then, the result is added to the next number: 58 + 42 = 100\n",
        "\n",
        "*  Finally, the result is added to the last number: 100 + 13 = 113\n",
        "\n",
        "✅ Final result = 113"
      ],
      "metadata": {
        "id": "ZgrJEehHxtfY"
      }
    },
    {
      "cell_type": "markdown",
      "source": [
        "---\n",
        "## **PRACTICAL_QUESTIONS**\n",
        "---"
      ],
      "metadata": {
        "id": "3uicF483taDP"
      }
    },
    {
      "cell_type": "code",
      "source": [
        "def sum_(number):\n",
        "  \"\"\"\n",
        "  Calculation of all even numbers\n",
        "\n",
        "  arg:\n",
        "    number : List of numbers\n",
        "\n",
        "  return:\n",
        "    sum of all even numbers\n",
        "  \"\"\"\n",
        "  total = 0\n",
        "  for num in number:\n",
        "    if num % 2 == 0:\n",
        "      total += num\n",
        "  return total\n",
        "\n",
        "lis = [1,2,3,4,5,6,7,8,9,10]\n",
        "print(sum_(lis))\n",
        "\n",
        "lists = list(map(int,input(\"enter your numbers which were seperated by space :\").split()))\n",
        "print(\"TOTAL SUM OF THE ALL EVEN NUMBER IS : \",sum_(lists))"
      ],
      "metadata": {
        "colab": {
          "base_uri": "https://localhost:8080/"
        },
        "id": "ESEs3kyy5TT2",
        "outputId": "7d969b43-d7bc-474a-c987-8d2c7b0d5c63"
      },
      "execution_count": null,
      "outputs": [
        {
          "output_type": "stream",
          "name": "stdout",
          "text": [
            "30\n",
            "enter your numbers :454 54544 554 554 5454 453\n",
            "TOTAL SUM OF THE ALL EVEN NUMBER IS :  61560\n"
          ]
        }
      ]
    },
    {
      "cell_type": "markdown",
      "source": [
        "## Q 2. Create a Python function that accepts a string and returns the reverse of that string.\n"
      ],
      "metadata": {
        "id": "DNKgSMLeBdTl"
      }
    },
    {
      "cell_type": "code",
      "source": [
        "n = input(\"enter your string :\")\n",
        "def rever(n):\n",
        "  return n[::-1]\n",
        "\n",
        "a = rever(n)\n",
        "\n",
        "print(a) # reverse by sliceing"
      ],
      "metadata": {
        "colab": {
          "base_uri": "https://localhost:8080/"
        },
        "id": "zYUxbjPxFSV0",
        "outputId": "e5d679d7-6832-4d23-ad15-7f6487ead35c"
      },
      "execution_count": null,
      "outputs": [
        {
          "output_type": "stream",
          "name": "stdout",
          "text": [
            "enter your string :AASHISH\n",
            "HSIHSAA\n"
          ]
        }
      ]
    },
    {
      "cell_type": "markdown",
      "source": [
        "\n",
        "## Q 3. Implement a Python function that takes a list of integers and returns a new list containing the squares of each number."
      ],
      "metadata": {
        "id": "m9omS0lYGbKM"
      }
    },
    {
      "cell_type": "code",
      "source": [
        "lis = list(map(int,input(\"enter your numbers which were seperated by space :\").split()))\n",
        "def squares_list(n):\n",
        "  square = []\n",
        "  for i in n:\n",
        "    square.append(i**2)\n",
        "  return square\n",
        "\n",
        "print(squares_list(lis))"
      ],
      "metadata": {
        "colab": {
          "base_uri": "https://localhost:8080/"
        },
        "id": "QfQJjXKRKRVz",
        "outputId": "ac1d765d-d916-4175-98e3-c6fcda17306f"
      },
      "execution_count": null,
      "outputs": [
        {
          "output_type": "stream",
          "name": "stdout",
          "text": [
            "enter your numbers which were seperated by space :12 41 214 12 12 12 11 21\n",
            "[144, 1681, 45796, 144, 144, 144, 121, 441]\n"
          ]
        }
      ]
    },
    {
      "cell_type": "markdown",
      "source": [
        "## Q 4. Write a Python function that checks if a given number is prime or not, and display all prime numbers from 1 to 200."
      ],
      "metadata": {
        "id": "5kN922LdLSQv"
      }
    },
    {
      "cell_type": "code",
      "source": [
        "n = int(input(\"enter your number : \"))\n",
        "def prime(n):\n",
        "  lis = []\n",
        "  if n <= 1:\n",
        "    return False\n",
        "  for i in range(2,n):\n",
        "    if n % i == 0:\n",
        "      return False\n",
        "  return True\n",
        "\n",
        "for i in range(1,n):\n",
        "  if prime(i):\n",
        "    lis.append(i)\n",
        "A = set(lis)\n",
        "print(\"HERE THE ALL PRIME NUMBER OF\",n,\"ARE\")\n",
        "print(\"=\"*248)\n",
        "print(\"TYPE OF DATA : \",type(A))\n",
        "print(\"ALL PRIME NUMBER IN SET TYPE : \",A)\n",
        "print(\"=\"*248)\n",
        "B = sorted(set(lis))\n",
        "print(\"TYPE OF DATA : \",type(B))\n",
        "print(\"ALL PRIMT NUMBER IN LIST TYPE : \",B)\n",
        "print(\"=\"*248)\n",
        "C = tuple(sorted(set(lis)))\n",
        "print(\"TYPE OF DATA : \",type(C))\n",
        "print(\"ALL PRIME NUMBER IN TUPLE TYPE : \",C)\n",
        "print(\"=\"*248)"
      ],
      "metadata": {
        "colab": {
          "base_uri": "https://localhost:8080/"
        },
        "id": "LG74Jo2xSl4C",
        "outputId": "e51dc856-463f-4b18-8d51-151b9386bb62"
      },
      "execution_count": null,
      "outputs": [
        {
          "output_type": "stream",
          "name": "stdout",
          "text": [
            "enter your number : 200\n",
            "HERE THE ALL PRIME NUMBER OF 200 ARE\n",
            "========================================================================================================================================================================================================================================================\n",
            "TYPE OF DATA :  <class 'set'>\n",
            "ALL PRIME NUMBER IN SET TYPE :  {2, 3, 131, 5, 7, 137, 11, 12, 13, 139, 17, 19, 21, 149, 23, 151, 29, 157, 31, 163, 37, 167, 41, 43, 173, 47, 179, 53, 181, 59, 61, 191, 193, 67, 197, 71, 199, 73, 79, 83, 214, 89, 97, 101, 103, 107, 109, 113, 127}\n",
            "========================================================================================================================================================================================================================================================\n",
            "TYPE OF DATA :  <class 'list'>\n",
            "ALL PRIMT NUMBER IN LIST TYPE :  [2, 3, 5, 7, 11, 12, 13, 17, 19, 21, 23, 29, 31, 37, 41, 43, 47, 53, 59, 61, 67, 71, 73, 79, 83, 89, 97, 101, 103, 107, 109, 113, 127, 131, 137, 139, 149, 151, 157, 163, 167, 173, 179, 181, 191, 193, 197, 199, 214]\n",
            "========================================================================================================================================================================================================================================================\n",
            "TYPE OF DATA :  <class 'tuple'>\n",
            "ALL PRIME NUMBER IN TUPLE TYPE :  (2, 3, 5, 7, 11, 12, 13, 17, 19, 21, 23, 29, 31, 37, 41, 43, 47, 53, 59, 61, 67, 71, 73, 79, 83, 89, 97, 101, 103, 107, 109, 113, 127, 131, 137, 139, 149, 151, 157, 163, 167, 173, 179, 181, 191, 193, 197, 199, 214)\n",
            "========================================================================================================================================================================================================================================================\n"
          ]
        }
      ]
    },
    {
      "cell_type": "markdown",
      "source": [
        "##Q 5. Create an iterator class in Python that generates the Fibonacci sequence up to a specified number of terms.\n"
      ],
      "metadata": {
        "id": "F02vVVqnWe65"
      }
    },
    {
      "cell_type": "code",
      "source": [
        "#Q 5. Create an iterator class in Python that generates the Fibonacci sequence up to a specified number of terms.\n",
        "class fibonacci:\n",
        "  def __init__(self,n):\n",
        "    self.n = n\n",
        "    self.a = 0\n",
        "    self.b = 1\n",
        "  def __iter__(self):\n",
        "    return self\n",
        "  def __next__(self):\n",
        "    if self.n <= 0:\n",
        "      raise StopIteration\n",
        "    result = self.a\n",
        "    self.a,self.b = self.b,self.a+self.b\n",
        "    self.n -= 1\n",
        "    return result\n",
        "\n",
        "\n",
        "fib = fibonacci(10)\n",
        "print(next(fib))\n",
        "print(next(fib))\n",
        "print(next(fib))\n",
        "print(next(fib))\n",
        "print(next(fib))\n",
        "print(next(fib))\n",
        "print(next(fib))\n",
        "print(next(fib))\n",
        "print(next(fib))\n",
        "print(next(fib))"
      ],
      "metadata": {
        "colab": {
          "base_uri": "https://localhost:8080/"
        },
        "id": "aDl40wfgbj0a",
        "outputId": "278be5f9-f067-49ea-c468-906ab9c5477b"
      },
      "execution_count": null,
      "outputs": [
        {
          "output_type": "stream",
          "name": "stdout",
          "text": [
            "0\n",
            "1\n",
            "1\n",
            "2\n",
            "3\n",
            "5\n",
            "8\n",
            "13\n",
            "21\n",
            "34\n"
          ]
        }
      ]
    },
    {
      "cell_type": "markdown",
      "source": [
        "#Q 6. Write a generator function in Python that yields the powers of 2 up to a given exponent.\n"
      ],
      "metadata": {
        "id": "EE65PM2orESH"
      }
    },
    {
      "cell_type": "code",
      "source": [
        "\n",
        "n = int(input(\"enter your no. : \"))\n",
        "def Power_for_generator(n):\n",
        "  for i in range(1,n):\n",
        "    yield i**2\n",
        "a = Power_for_generator(n)\n",
        "for i in range(n-1):\n",
        "  print(next(a))"
      ],
      "metadata": {
        "colab": {
          "base_uri": "https://localhost:8080/"
        },
        "id": "_z3JpAzXjo07",
        "outputId": "9ca945c8-4818-4f0e-e607-6bbce74dabb8"
      },
      "execution_count": null,
      "outputs": [
        {
          "output_type": "stream",
          "name": "stdout",
          "text": [
            "enter your no. : 8\n",
            "1\n",
            "4\n",
            "9\n",
            "16\n",
            "25\n",
            "36\n",
            "49\n"
          ]
        }
      ]
    },
    {
      "cell_type": "markdown",
      "source": [
        "# Q 7. Implement a generator function that reads a file line by line and yields each line as a string."
      ],
      "metadata": {
        "id": "YQ7qSDdbKtLT"
      }
    },
    {
      "cell_type": "code",
      "source": [
        "def read_large_file(filename):\n",
        "  with open(filename, 'r') as f:\n",
        "    for line in f:\n",
        "      yield line\n",
        "\n",
        "\n",
        "# Create a dummy file for demonstration\n",
        "with open(\"my_file.txt\", \"w\") as f:\n",
        "    f.write(\"This is the first line the intro.\\n\")\n",
        "    f.write(\"This is the second line whos have the expression.\\n\")\n",
        "    f.write(\"And the third line says take care .\\n\")\n",
        "\n",
        "\n",
        "# Example usage:\n",
        "file_generator = read_large_file(\"my_file.txt\")\n",
        "\n",
        "print(\"Reading file line by line using the generator:\",\"\\n\")\n",
        "for line in file_generator:\n",
        "  print(line,end = \"\") # use end='' to avoid extra newlines from print"
      ],
      "metadata": {
        "colab": {
          "base_uri": "https://localhost:8080/"
        },
        "id": "anb3j3Pft8sW",
        "outputId": "ebde397d-f729-4a7d-8862-8994c834404e"
      },
      "execution_count": null,
      "outputs": [
        {
          "output_type": "stream",
          "name": "stdout",
          "text": [
            "Reading file line by line using the generator: \n",
            "\n",
            "This is the first line the intro.\n",
            "This is the second line whos have the expression.\n",
            "And the third line says take care .\n"
          ]
        }
      ]
    },
    {
      "cell_type": "markdown",
      "source": [
        "# Q 8. Use a lambda function in Python to sort a list of tuples based on the second element of each tuple.\n"
      ],
      "metadata": {
        "id": "jl3af3YlOifv"
      }
    },
    {
      "cell_type": "code",
      "source": [
        "lambda_function = lambda x: x[1]\n",
        "\n",
        "list_of_tuples = [(1, 'b'), (3, 'd'), (2, 'a'), (4, 'c')]\n",
        "\n",
        "sorted_list = sorted(list_of_tuples, key=lambda_function)\n",
        "\n",
        "print(sorted_list)"
      ],
      "metadata": {
        "id": "QLqKTdIdLOAT",
        "colab": {
          "base_uri": "https://localhost:8080/"
        },
        "outputId": "187997af-ac82-4323-b204-573ff9124a72"
      },
      "execution_count": 18,
      "outputs": [
        {
          "output_type": "stream",
          "name": "stdout",
          "text": [
            "[(2, 'a'), (1, 'b'), (4, 'c'), (3, 'd')]\n"
          ]
        }
      ]
    },
    {
      "cell_type": "markdown",
      "source": [
        "#Q 9. Write a Python program that uses \"map()\" to convert a list of temperatures from Celsius to Fahrenheit.\n"
      ],
      "metadata": {
        "id": "Rh_-dy5BQC2h"
      }
    },
    {
      "cell_type": "code",
      "source": [
        "def for_fahrenheit(c):\n",
        "  return (c*9/5)+32\n",
        "\n",
        "for_fahrenheit = list(map(for_fahrenheit,[10,20,30,40,50]))\n",
        "print(for_fahrenheit)"
      ],
      "metadata": {
        "colab": {
          "base_uri": "https://localhost:8080/"
        },
        "id": "iQ9CxoFJOoUu",
        "outputId": "38aaaa03-fb8d-4bde-b7ad-87769d448dfc"
      },
      "execution_count": 19,
      "outputs": [
        {
          "output_type": "stream",
          "name": "stdout",
          "text": [
            "[50.0, 68.0, 86.0, 104.0, 122.0]\n"
          ]
        }
      ]
    },
    {
      "cell_type": "markdown",
      "source": [
        "#Q 10. Create a Python program that uses `filter()` to remove all the vowels from a given string.\n"
      ],
      "metadata": {
        "id": "7hKGPvPpQQG9"
      }
    },
    {
      "cell_type": "code",
      "source": [
        "remove_vowels = filter(lambda x : x not in \"aeiouAEIOU\",input(\"enter your string :\"))\n",
        "print(\"\".join(remove_vowels))"
      ],
      "metadata": {
        "colab": {
          "base_uri": "https://localhost:8080/"
        },
        "id": "cC5LNa_ORAfe",
        "outputId": "6e410477-97d5-4e68-ec1c-3080340aa186"
      },
      "execution_count": 27,
      "outputs": [
        {
          "output_type": "stream",
          "name": "stdout",
          "text": [
            "enter your string :SIR AASHISH TIWARI\n",
            "SR SHSH TWR\n"
          ]
        }
      ]
    },
    {
      "cell_type": "markdown",
      "source": [
        "#Q 11. Imagine an accounting routine used in a book shop. It works on a list with sublists, which look like this: .....\n",
        "\n",
        "Write a python program using lambda and map.\n"
      ],
      "metadata": {
        "id": "pacQEGs7QbhG"
      }
    },
    {
      "cell_type": "code",
      "source": [
        "orders = [\n",
        "    [11297, \"Learning Python, Mark Lutz\", 5, 49.95],\n",
        "    [98765, \"Programming Python, Mark Lutz\", 5, 56.88],\n",
        "    [77576, \"Head First Python, Paul Barry\", 3, 32.95],\n",
        "    [88112, \"Einführung in Python3, Bernd Klein\", 3, 24.99]\n",
        "]\n",
        "\n",
        "lam = lambda x : (x[0],x[2]*x[3] + (10 if x[2]*x[3] < 100 else 0))\n",
        "\n",
        "result = list(map(lam,orders))\n",
        "\n",
        "print(result)"
      ],
      "metadata": {
        "colab": {
          "base_uri": "https://localhost:8080/"
        },
        "id": "3wUECd8jRBWX",
        "outputId": "8f6b17e5-f4ba-48ee-b5e8-1b84848b9dc9"
      },
      "execution_count": 30,
      "outputs": [
        {
          "output_type": "stream",
          "name": "stdout",
          "text": [
            "[(11297, 249.75), (98765, 284.40000000000003), (77576, 108.85000000000001), (88112, 84.97)]\n"
          ]
        }
      ]
    },
    {
      "cell_type": "code",
      "source": [],
      "metadata": {
        "id": "lH0HzeFebRFt"
      },
      "execution_count": null,
      "outputs": []
    }
  ]
}